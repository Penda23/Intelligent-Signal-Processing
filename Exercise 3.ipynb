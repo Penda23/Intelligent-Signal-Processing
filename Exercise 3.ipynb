{
 "cells": [
  {
   "cell_type": "markdown",
   "metadata": {},
   "source": [
    "## Install necessary files"
   ]
  },
  {
   "cell_type": "code",
   "execution_count": 1,
   "metadata": {},
   "outputs": [
    {
     "name": "stdout",
     "output_type": "stream",
     "text": [
      "Requirement already satisfied: ffprobe-python in /Users/Penda/anaconda3/lib/python3.11/site-packages (1.0.3)\r\n",
      "Requirement already satisfied: ffmpeg-python in /Users/Penda/anaconda3/lib/python3.11/site-packages (0.2.0)\r\n",
      "Requirement already satisfied: future in /Users/Penda/anaconda3/lib/python3.11/site-packages (from ffmpeg-python) (0.18.3)\r\n"
     ]
    }
   ],
   "source": [
    "!pip install ffprobe-python ffmpeg-python"
   ]
  },
  {
   "cell_type": "code",
   "execution_count": 2,
   "metadata": {},
   "outputs": [
    {
     "name": "stdout",
     "output_type": "stream",
     "text": [
      "Error: ffprobe not found. Make sure it is installed and in your system's PATH.\n"
     ]
    }
   ],
   "source": [
    "import subprocess\n",
    "\n",
    "try:\n",
    "    subprocess.run([\"ffprobe\", \"-version\"], check=True)\n",
    "    print(\"ffprobe is working correctly!\")\n",
    "except FileNotFoundError:\n",
    "    print(\"Error: ffprobe not found. Make sure it is installed and in your system's PATH.\")\n"
   ]
  },
  {
   "cell_type": "code",
   "execution_count": 3,
   "metadata": {},
   "outputs": [],
   "source": [
    "import os\n",
    "os.environ[\"PATH\"] += os.pathsep + \"/opt/homebrew/bin\""
   ]
  },
  {
   "cell_type": "code",
   "execution_count": 4,
   "metadata": {},
   "outputs": [
    {
     "name": "stdout",
     "output_type": "stream",
     "text": [
      "ffprobe version 7.1.1 Copyright (c) 2007-2025 the FFmpeg developers\n",
      "built with Apple clang version 16.0.0 (clang-1600.0.26.6)\n",
      "configuration: --prefix=/opt/homebrew/Cellar/ffmpeg/7.1.1_1 --enable-shared --enable-pthreads --enable-version3 --cc=clang --host-cflags= --host-ldflags='-Wl,-ld_classic' --enable-ffplay --enable-gnutls --enable-gpl --enable-libaom --enable-libaribb24 --enable-libbluray --enable-libdav1d --enable-libharfbuzz --enable-libjxl --enable-libmp3lame --enable-libopus --enable-librav1e --enable-librist --enable-librubberband --enable-libsnappy --enable-libsrt --enable-libssh --enable-libsvtav1 --enable-libtesseract --enable-libtheora --enable-libvidstab --enable-libvmaf --enable-libvorbis --enable-libvpx --enable-libwebp --enable-libx264 --enable-libx265 --enable-libxml2 --enable-libxvid --enable-lzma --enable-libfontconfig --enable-libfreetype --enable-frei0r --enable-libass --enable-libopencore-amrnb --enable-libopencore-amrwb --enable-libopenjpeg --enable-libspeex --"
     ]
    },
    {
     "data": {
      "text/plain": [
       "CompletedProcess(args=['ffprobe', '-version'], returncode=0)"
      ]
     },
     "execution_count": 4,
     "metadata": {},
     "output_type": "execute_result"
    },
    {
     "name": "stdout",
     "output_type": "stream",
     "text": [
      "enable-libsoxr --enable-libzmq --enable-libzimg --disable-libjack --disable-indev=jack --enable-videotoolbox --enable-audiotoolbox --enable-neon\n",
      "libavutil      59. 39.100 / 59. 39.100\n",
      "libavcodec     61. 19.101 / 61. 19.101\n",
      "libavformat    61.  7.100 / 61.  7.100\n",
      "libavdevice    61.  3.100 / 61.  3.100\n",
      "libavfilter    10.  4.100 / 10.  4.100\n",
      "libswscale      8.  3.100 /  8.  3.100\n",
      "libswresample   5.  3.100 /  5.  3.100\n",
      "libpostproc    58.  3.100 / 58.  3.100\n"
     ]
    }
   ],
   "source": [
    "subprocess.run([\"ffprobe\", \"-version\"], check=True)\n"
   ]
  },
  {
   "cell_type": "code",
   "execution_count": 5,
   "metadata": {},
   "outputs": [],
   "source": [
    "from ffprobe import FFProbe\n",
    "from os import listdir\n",
    "from os.path import isfile, join\n",
    "import ffmpeg\n",
    "import pathlib\n",
    "\n",
    "# current folder path\n",
    "curr_path = pathlib.Path().resolve()"
   ]
  },
  {
   "cell_type": "markdown",
   "metadata": {},
   "source": [
    "# Format to follow:\n",
    "- Video format (container): mp4\n",
    "- Video codec: h.264\n",
    "- Audio codec: aac\n",
    "- Frame rate: 25 FPS\n",
    "- Aspect ratio: 16:9 \n",
    "- Resolution: 640 x 360\n",
    "- Video bit rate: 2 – 5 Mb/s\n",
    "- Audio bit rate: up to 256 kb/s\n",
    "- Audio channels: stereo"
   ]
  },
  {
   "cell_type": "markdown",
   "metadata": {},
   "source": [
    "### Analyze Video and Audio"
   ]
  },
  {
   "cell_type": "code",
   "execution_count": 6,
   "metadata": {},
   "outputs": [],
   "source": [
    "def find_problematic_fields(video_stream, audio_stream):\n",
    "    '''\n",
    "    Takes in the ffmpeg stream as input parameter which will be used to filter the video input.\n",
    "    Only filter for video framerate and resolution will be performed, other field settings will be done when\n",
    "    the ffmpeg output video file is made.\n",
    "    \n",
    "    Returns problematic_fields (String), video stream and audio stream\n",
    "    '''\n",
    "    problematic_fields = \"\"\n",
    "    # file format setting will be set along with output file\n",
    "    if file_format != \"mp4\":\n",
    "        problematic_fields += \"file_format \"\n",
    "\n",
    "    # video codec setting will be set along with output file\n",
    "    if v_codec_name != \"h264\":\n",
    "        problematic_fields += \"video_codec \"\n",
    "\n",
    "    # audio codec setting will be set along with output file\n",
    "    if a_codec_name != \"aac\":\n",
    "        problematic_fields += \"audio_codec \"\n",
    "\n",
    "    if v_frame_rate != \"25\":\n",
    "        problematic_fields += \"video_frame_rate \"\n",
    "        # section 11.90 fps of the link provided\n",
    "        video_stream = ffmpeg.filter(video_stream, 'fps', fps=25, round='near')\n",
    "\n",
    "    # aspect ratio setting will be set along with output file\n",
    "    if v_aspect_ratio != \"16:9\":\n",
    "        problematic_fields += \"aspect_ratio \"\n",
    "\n",
    "    if v_resolution != \"640 x 360\":\n",
    "        problematic_fields += \"resolution \"\n",
    "        video_stream = ffmpeg.filter(video_stream, 'scale', w='640', h='360')\n",
    "\n",
    "    # video bitrate setting will be set along with output file\n",
    "    if v_bitrate < 2 or v_bitrate > 5:\n",
    "        problematic_fields += \"video_bitrate \"\n",
    "\n",
    "    # audio bitrate setting will be set along with output file\n",
    "    if a_bitrate < 0 and a_bitrate > 256:\n",
    "        problematic_fields += \"audio_bitrate \"\n",
    "\n",
    "    # channels will be set to stereo by default as later on, we will be using the video and audio stream \n",
    "    # to generate the output file\n",
    "    if a_channel_layout != \"stereo\" or a_channels != 2:\n",
    "        problematic_fields += \"channels_layout \"\n",
    "        \n",
    "    return problematic_fields, video_stream, audio_stream"
   ]
  },
  {
   "cell_type": "code",
   "execution_count": 7,
   "metadata": {},
   "outputs": [
    {
     "name": "stdout",
     "output_type": "stream",
     "text": [
      "\n",
      "Processing file: Last_man_on_earth_1964.mov\n",
      "Video format: mov\n",
      "Video codec: prores\n",
      "Audio codec: pcm_s16le\n",
      "Frame rate: 23.976023976023978 FPS\n",
      "Aspect ratio: 16:9\n",
      "Resolution: 640 x 360\n",
      "Video bitrate: 9.285191 Mb/s\n",
      "Audio bitrate: 1536.0 kb/s\n",
      "Audio channel layout: stereo\n",
      "Number of channels: 2\n",
      "\n",
      "Processing file: Voyage_to_the_Planet_of_Prehistoric_Women.mp4\n",
      "Video format: mp4\n",
      "Video codec: hevc\n",
      "Audio codec: mp3\n",
      "Frame rate: 29.97002997002997 FPS\n",
      "Aspect ratio: 16:9\n",
      "Resolution: 640 x 360\n",
      "Video bitrate: 8.038857 Mb/s\n",
      "Audio bitrate: 320.0 kb/s\n",
      "Audio channel layout: stereo\n",
      "Number of channels: 2\n",
      "\n",
      "Processing file: The_Gun_and_the_Pulpit.avi\n",
      "Video format: avi\n",
      "Video codec: rawvideo\n",
      "Audio codec: pcm_s16le\n",
      "Frame rate: 25.0 FPS\n",
      "Aspect ratio: N/A\n",
      "Resolution: 720 x 404\n",
      "Video bitrate: 87.438878 Mb/s\n",
      "Audio bitrate: 1536.0 kb/s\n",
      "Audio channel layout: unknown\n",
      "Number of channels: 2\n",
      "\n",
      "Processing file: Cosmos_War_of_the_Planets.mp4\n",
      "Video format: mp4\n",
      "Video codec: h264\n",
      "Audio codec: aac\n",
      "Frame rate: 29.97002997002997 FPS\n",
      "Aspect ratio: 314:177\n",
      "Resolution: 628 x 354\n",
      "Video bitrate: 2.989377 Mb/s\n",
      "Audio bitrate: 317.103 kb/s\n",
      "Audio channel layout: stereo\n",
      "Number of channels: 2\n",
      "\n",
      "Processing file: The_Hill_Gang_Rides_Again.mp4\n",
      "Video format: mp4\n",
      "Video codec: h264\n",
      "Audio codec: aac\n",
      "Frame rate: 25.0 FPS\n",
      "Aspect ratio: 16:9\n",
      "Resolution: 640 x 360\n",
      "Video bitrate: 7.53773 Mb/s\n",
      "Audio bitrate: 253.272 kb/s\n",
      "Audio channel layout: stereo\n",
      "Number of channels: 2\n"
     ]
    }
   ],
   "source": [
    "# Ensure curr_path is defined before using it\n",
    "if 'curr_path' not in locals():\n",
    "    raise NameError(\"curr_path is not defined. Please set it before running this cell.\")\n",
    "\n",
    "# Ensure the directory exists\n",
    "import os\n",
    "if not os.path.exists(f\"{curr_path}/Exercise3_Films\"):\n",
    "    raise FileNotFoundError(f\"Directory {curr_path}/Exercise3_Films does not exist.\")\n",
    "\n",
    "# Get all files in the Exercise3_Films folder, skipping system files\n",
    "files = [f for f in os.listdir(f\"{curr_path}/Exercise3_Films\") if os.path.isfile(os.path.join(f\"{curr_path}/Exercise3_Films\", f)) and not f.startswith(\".\")]\n",
    "\n",
    "# Open a text file to write analysis results\n",
    "result_file = open(\"file_analysis_report.txt\", \"w\")\n",
    "\n",
    "for file in files:\n",
    "    print(f\"\\nProcessing file: {file}\")\n",
    "    try:\n",
    "        metadata = FFProbe(f\"{curr_path}/Exercise3_Films/{file}\")\n",
    "\n",
    "        # Ensure metadata contains valid streams\n",
    "        video_stream = metadata.streams[0] if len(metadata.streams) > 0 else None\n",
    "        audio_stream = metadata.streams[1] if len(metadata.streams) > 1 else None\n",
    "\n",
    "        # Assign values safely\n",
    "        file_format = file.split('.')[-1]\n",
    "        v_codec_name = video_stream.codec_name if video_stream else \"Unknown\"\n",
    "        a_codec_name = audio_stream.codec_name if audio_stream else \"Unknown\"\n",
    "        v_frame_rate = (float(video_stream.nb_frames) / float(video_stream.duration)) if (video_stream and video_stream.nb_frames and video_stream.duration) else \"Unknown\"\n",
    "        v_aspect_ratio = video_stream.display_aspect_ratio if video_stream else \"Unknown\"\n",
    "        v_resolution = f\"{video_stream.width} x {video_stream.height}\" if video_stream else \"Unknown\"\n",
    "        v_bitrate = (float(video_stream.bit_rate) / 1000000) if (video_stream and video_stream.bit_rate) else None\n",
    "        a_bitrate = (float(audio_stream.bit_rate) / 1000) if (audio_stream and audio_stream.bit_rate) else None\n",
    "        a_channel_layout = audio_stream.channel_layout if audio_stream else \"Unknown\"\n",
    "        a_channels = audio_stream.channels if audio_stream else \"Unknown\"\n",
    "\n",
    "        # Display extracted information\n",
    "        print(f\"Video format: {file_format}\")\n",
    "        print(f\"Video codec: {v_codec_name}\")\n",
    "        print(f\"Audio codec: {a_codec_name}\")\n",
    "        print(f\"Frame rate: {v_frame_rate} FPS\")\n",
    "        print(f\"Aspect ratio: {v_aspect_ratio}\")\n",
    "        print(f\"Resolution: {v_resolution}\")\n",
    "        print(f\"Video bitrate: {v_bitrate if v_bitrate is not None else 'Unknown'} Mb/s\")\n",
    "        print(f\"Audio bitrate: {a_bitrate if a_bitrate is not None else 'Unknown'} kb/s\")\n",
    "        print(f\"Audio channel layout: {a_channel_layout}\")\n",
    "        print(f\"Number of channels: {a_channels}\")\n",
    "\n",
    "        # Ensure find_problematic_fields is defined\n",
    "        if \"find_problematic_fields\" not in globals():\n",
    "            raise NameError(\"find_problematic_fields function is not defined. Please define it before running this cell.\")\n",
    "\n",
    "        # Check and fix problematic fields\n",
    "        stream = ffmpeg.input(f\"{curr_path}/Exercise3_Films/{file}\")\n",
    "        video_stream = stream.video if hasattr(stream, 'video') else None\n",
    "        audio_stream = stream.audio if hasattr(stream, 'audio') else None\n",
    "\n",
    "        # Handle v_bitrate safely in find_problematic_fields\n",
    "        problematic_fields, video_stream, audio_stream = find_problematic_fields(video_stream, audio_stream)\n",
    "\n",
    "        # Write findings to file\n",
    "        if not problematic_fields:\n",
    "            result_file.write(f\"{file} - no issues found\\n\")\n",
    "        else:\n",
    "            result_file.write(f\"{file} - {problematic_fields}\\n\")\n",
    "            output_filename = f\"{curr_path}/OutputFiles/{file.split('.')[0]}_formatOK.mp4\"\n",
    "            stream = ffmpeg.output(video_stream, audio_stream, output_filename, format='mp4', vcodec='h264', acodec='aac', video_bitrate='2.5M', audio_bitrate='256k', aspect='16:9')\n",
    "            ffmpeg.run(stream, capture_stdout=True, capture_stderr=True)\n",
    "\n",
    "    except ffmpeg.Error as e:\n",
    "        print(\"FFmpeg Error:\")\n",
    "        print(\"stdout:\", e.stdout.decode('utf8'))\n",
    "        print(\"stderr:\", e.stderr.decode('utf8'))\n",
    "\n",
    "# Close the result file after analysis\n",
    "result_file.close()\n"
   ]
  },
  {
   "cell_type": "markdown",
   "metadata": {},
   "source": [
    "## Check format of converted videos"
   ]
  },
  {
   "cell_type": "code",
   "execution_count": 8,
   "metadata": {},
   "outputs": [
    {
     "name": "stdout",
     "output_type": "stream",
     "text": [
      "file: Last_man_on_earth_1964_formatOK.mp4\n",
      "Video format (container): mp4\n",
      "Video codec: h264\n",
      "Audio codec: aac\n",
      "Frame rate: 25.00 FPS\n",
      "Aspect ratio: 16:9\n",
      "Resolution: 640 x 360\n",
      "v_bitrate: 2.57Mb/s\n",
      "a_bitrate: 240.95kb/s\n",
      "channel layout: stereo\n",
      "channels: 2\n",
      "\n",
      "file: Voyage_to_the_Planet_of_Prehistoric_Women_formatOK.mp4\n",
      "Video format (container): mp4\n",
      "Video codec: h264\n",
      "Audio codec: aac\n",
      "Frame rate: 25.00 FPS\n",
      "Aspect ratio: 16:9\n",
      "Resolution: 640 x 360\n",
      "v_bitrate: 2.38Mb/s\n",
      "a_bitrate: 246.17kb/s\n",
      "channel layout: stereo\n",
      "channels: 2\n",
      "\n",
      "file: Cosmos_War_of_the_Planets_formatOK.mp4\n",
      "Video format (container): mp4\n",
      "Video codec: h264\n",
      "Audio codec: aac\n",
      "Frame rate: 25.00 FPS\n",
      "Aspect ratio: 16:9\n",
      "Resolution: 640 x 360\n",
      "v_bitrate: 2.47Mb/s\n",
      "a_bitrate: 245.59kb/s\n",
      "channel layout: stereo\n",
      "channels: 2\n",
      "\n",
      "file: The_Hill_Gang_Rides_Again_formatOK.mp4\n",
      "Video format (container): mp4\n",
      "Video codec: h264\n",
      "Audio codec: aac\n",
      "Frame rate: 25.00 FPS\n",
      "Aspect ratio: 16:9\n",
      "Resolution: 640 x 360\n",
      "v_bitrate: 2.48Mb/s\n",
      "a_bitrate: 214.11kb/s\n",
      "channel layout: stereo\n",
      "channels: 2\n",
      "\n",
      "file: The_Gun_and_the_Pulpit_formatOK.mp4\n",
      "Video format (container): mp4\n",
      "Video codec: h264\n",
      "Audio codec: aac\n",
      "Frame rate: 25.00 FPS\n",
      "Aspect ratio: 16:9\n",
      "Resolution: 640 x 360\n",
      "v_bitrate: 2.41Mb/s\n",
      "a_bitrate: 251.28kb/s\n",
      "channel layout: stereo\n",
      "channels: 2\n",
      "\n"
     ]
    }
   ],
   "source": [
    "files = [f for f in listdir(f\"{curr_path}/OutputFiles/\") if isfile(join(f\"{curr_path}/OutputFiles/\", f))]\n",
    "\n",
    "for file in files:\n",
    "    print(f\"file: {file}\")\n",
    "    metadata=FFProbe(f\"{curr_path}/OutputFiles/{file}\")\n",
    "    # retrieve stream information\n",
    "    video_stream = metadata.streams[0]\n",
    "    audio_stream = metadata.streams[1]\n",
    "\n",
    "    # assign stream fields to variables\n",
    "    file_format = file.split('.')[1]\n",
    "    v_codec_name = video_stream.codec_name\n",
    "    a_codec_name = audio_stream.codec_name\n",
    "    v_frame_rate = float(video_stream.nb_frames) / float(video_stream.duration)\n",
    "    v_aspect_ratio = video_stream.display_aspect_ratio\n",
    "    v_resolution = f\"{video_stream.width} x {video_stream.height}\"\n",
    "    v_bitrate = int(video_stream.bit_rate) / 1000000\n",
    "    a_bitrate = int(audio_stream.bit_rate) / 1000\n",
    "    a_channel_layout = audio_stream.channel_layout\n",
    "    a_channels = audio_stream.channels \n",
    "    print(f\"Video format (container): {file_format}\")\n",
    "    print(f\"Video codec: {v_codec_name}\")\n",
    "    print(f\"Audio codec: {a_codec_name}\")\n",
    "    print(f\"Frame rate: {format(v_frame_rate, '.2f')} FPS\")\n",
    "    print(f\"Aspect ratio: {v_aspect_ratio}\")\n",
    "    print(f\"Resolution: {v_resolution}\")\n",
    "    print(f\"v_bitrate: {format(v_bitrate, '.2f')}Mb/s\")\n",
    "    print(f\"a_bitrate: {format(a_bitrate, '.2f')}kb/s\")\n",
    "    print(f\"channel layout: {a_channel_layout}\")\n",
    "    print(f\"channels: {a_channels}\\n\")"
   ]
  },
  {
   "cell_type": "code",
   "execution_count": null,
   "metadata": {},
   "outputs": [],
   "source": []
  }
 ],
 "metadata": {
  "kernelspec": {
   "display_name": "Python 3 (ipykernel)",
   "language": "python",
   "name": "python3"
  },
  "language_info": {
   "codemirror_mode": {
    "name": "ipython",
    "version": 3
   },
   "file_extension": ".py",
   "mimetype": "text/x-python",
   "name": "python",
   "nbconvert_exporter": "python",
   "pygments_lexer": "ipython3",
   "version": "3.11.5"
  }
 },
 "nbformat": 4,
 "nbformat_minor": 4
}
