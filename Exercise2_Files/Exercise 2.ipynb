{
 "cells": [
  {
   "cell_type": "code",
   "execution_count": 1,
   "id": "89470680",
   "metadata": {},
   "outputs": [],
   "source": [
    "import os\n",
    "import wave\n",
    "from scipy.io import wavfile\n",
    "import numpy as np\n",
    "import struct\n",
    "from functools import partial"
   ]
  },
  {
   "cell_type": "code",
   "execution_count": 2,
   "id": "67048541",
   "metadata": {},
   "outputs": [],
   "source": [
    "def read_wav_header(input_file):\n",
    "    \"\"\" Reads and extracts WAV file header information. \"\"\"\n",
    "    header_info = input_file.read(44)\n",
    "    header_fields = {\n",
    "        \"Chunk Size\": struct.unpack('<L', header_info[4:8])[0],\n",
    "        \"Format\": header_info[8:12],\n",
    "        \"Subchunk Size\": struct.unpack('<L', header_info[16:20])[0],\n",
    "        \"Audio Format\": struct.unpack('<H', header_info[20:22])[0],\n",
    "        \"Number of Channels\": struct.unpack('<H', header_info[22:24])[0],\n",
    "        \"Sample Rate\": struct.unpack('<L', header_info[24:28])[0],\n",
    "        \"Byte Rate\": struct.unpack('<L', header_info[28:32])[0],\n",
    "        \"Block Align\": struct.unpack('<H', header_info[32:34])[0],\n",
    "        \"Bits per sample\": struct.unpack('<H', header_info[34:36])[0],\n",
    "        \"File Size\": struct.unpack('<L', header_info[40:44])[0]\n",
    "    }\n",
    "    for key, value in header_fields.items():\n",
    "        print(f\"{key}: {value}\")\n",
    "    return header_info"
   ]
  },
  {
   "cell_type": "code",
   "execution_count": 3,
   "id": "b5eb41d4",
   "metadata": {},
   "outputs": [],
   "source": [
    "def encode_rice(sample, k):\n",
    "    \"\"\" Applies Rice encoding to a single sample. \"\"\"\n",
    "    M = 2**k\n",
    "    sign_bit = '1' if sample < 0 else '0'\n",
    "    s = abs(sample)\n",
    "    R = bin(s & (M - 1))[2:].zfill(k)  # Extract remainder bits\n",
    "    Q = '1' * (s >> k) + '0'  # Unary quotient encoding\n",
    "    return sign_bit + Q + R"
   ]
  },
  {
   "cell_type": "code",
   "execution_count": 4,
   "id": "c65de7f9",
   "metadata": {},
   "outputs": [],
   "source": [
    "def rice_encoding_compression(filename, k):\n",
    "    \"\"\" Compresses WAV file samples using Rice encoding. \"\"\"\n",
    "    try:\n",
    "        input_file = open(filename, 'rb')\n",
    "        encoded_file = open(f\"{filename.split('.')[0]}_Enc.ex2\", \"w\")\n",
    "        header_info = read_wav_header(input_file)\n",
    "        \n",
    "        compressed_bytes = 0\n",
    "        uncompressed_bytes = 0\n",
    "        M = 2**k\n",
    "        \n",
    "        for samplebyte in iter(partial(input_file.read, 2), b''):\n",
    "            sample = struct.unpack('<h', samplebyte)[0]\n",
    "            \n",
    "            if -128 < sample < 127:\n",
    "                encoded_code = encode_rice(sample, k)\n",
    "                hex_obj = hex(int(encoded_code, 2))[2:]\n",
    "                encoded_file.write(f\"/{hex_obj}\")\n",
    "                compressed_bytes += 1\n",
    "            else:\n",
    "                encoded_file.write(f\"\\\\{samplebyte.hex()}\")\n",
    "                uncompressed_bytes += 1\n",
    "\n",
    "        print(f\"Compressed bytes: {compressed_bytes}\")\n",
    "        print(f\"Uncompressed bytes: {uncompressed_bytes}\")\n",
    "        \n",
    "    except Exception as e:\n",
    "        print(\"An error occurred:\", e)\n",
    "    finally:\n",
    "        input_file.close()\n",
    "        encoded_file.close()"
   ]
  },
  {
   "cell_type": "code",
   "execution_count": 5,
   "id": "56fc4300",
   "metadata": {},
   "outputs": [],
   "source": [
    "def write_wav_header_info(decoded_file):\n",
    "    \"\"\" Sets header parameters for decoded WAV file. \"\"\"\n",
    "    decoded_file.setnchannels(1)\n",
    "    decoded_file.setsampwidth(2)\n",
    "    decoded_file.setframerate(44100)"
   ]
  },
  {
   "cell_type": "code",
   "execution_count": 6,
   "id": "3f388357",
   "metadata": {},
   "outputs": [],
   "source": [
    "def convert_hex_to_decoded_data(hex_string, is_compressed, M):\n",
    "    \"\"\" Converts hex-encoded data back into WAV format. \"\"\"\n",
    "    if is_compressed:\n",
    "        integer_value = int(hex_string, 16)\n",
    "        encoded_code = bin(integer_value)[2:]\n",
    "        \n",
    "        sign_bit = encoded_code[0] if len(encoded_code) > 1 else '0'\n",
    "        encoded_code = encoded_code[1:] if len(encoded_code) > 1 else encoded_code\n",
    "        \n",
    "        Q = encoded_code.count('1')\n",
    "        encoded_code = encoded_code[Q:]\n",
    "        R = int(encoded_code[-4:], 2) if encoded_code else 0\n",
    "        s = Q * M + R\n",
    "        \n",
    "        if sign_bit == '1':\n",
    "            s = -s\n",
    "        return struct.pack('<h', s)\n",
    "    else:\n",
    "        return bytearray.fromhex(hex_string)\n"
   ]
  },
  {
   "cell_type": "code",
   "execution_count": 7,
   "id": "d9cace8b",
   "metadata": {},
   "outputs": [],
   "source": [
    "def rice_compression_decoding(filename, k):\n",
    "    \"\"\" Decompresses a Rice encoded file back into a WAV file. \"\"\"\n",
    "    try:\n",
    "        M = 2**k\n",
    "        decoded_file = wave.open(f\"{filename.split('.')[0]}Dec.wav\", \"wb\")\n",
    "        write_wav_header_info(decoded_file)\n",
    "        \n",
    "        with open(filename, 'r') as input_file:\n",
    "            hex_string = \"\"\n",
    "            following_data_is_compressed = False\n",
    "            for c in iter(partial(input_file.read, 1), ''):\n",
    "                if c == \"/\":\n",
    "                    if hex_string:\n",
    "                        data = convert_hex_to_decoded_data(hex_string, following_data_is_compressed, M)\n",
    "                        decoded_file.writeframes(data)\n",
    "                    hex_string = \"\"\n",
    "                    following_data_is_compressed = True\n",
    "                elif c == \"\\\\\":\n",
    "                    if hex_string:\n",
    "                        data = convert_hex_to_decoded_data(hex_string, following_data_is_compressed, M)\n",
    "                        decoded_file.writeframes(data)\n",
    "                    hex_string = \"\"\n",
    "                    following_data_is_compressed = False\n",
    "                else:\n",
    "                    hex_string += c\n",
    "        print(\"Decompression complete.\")\n",
    "    except Exception as e:\n",
    "        print(\"An error occurred during decompression:\", e)\n",
    "    finally:\n",
    "        decoded_file.close()"
   ]
  },
  {
   "cell_type": "code",
   "execution_count": 8,
   "id": "a0ae9169",
   "metadata": {},
   "outputs": [],
   "source": [
    "def analyze_compression(original, encoded, decoded):\n",
    "    \"\"\" Analyzes compression efficiency. \"\"\"\n",
    "    print(\"Compression Analysis:\")\n",
    "    print(f\"Original file size: {original} bytes\")\n",
    "    print(f\"Encoded file size: {encoded} bytes\")\n",
    "    print(f\"Decoded file size: {decoded} bytes\")\n",
    "    print(f\"Compression: {round((original - encoded) / original * 100, 2)}%\")"
   ]
  },
  {
   "cell_type": "markdown",
   "id": "27cb5e36",
   "metadata": {},
   "source": [
    "# Sound 1"
   ]
  },
  {
   "cell_type": "code",
   "execution_count": 9,
   "id": "bd1d9a8d",
   "metadata": {
    "scrolled": false
   },
   "outputs": [
    {
     "name": "stdout",
     "output_type": "stream",
     "text": [
      "Chunk Size: 1002080\n",
      "Format: b'WAVE'\n",
      "Subchunk Size: 16\n",
      "Audio Format: 1\n",
      "Number of Channels: 1\n",
      "Sample Rate: 44100\n",
      "Byte Rate: 88200\n",
      "Block Align: 2\n",
      "Bits per sample: 16\n",
      "File Size: 1002044\n",
      "Compressed bytes: 275532\n",
      "Uncompressed bytes: 225490\n"
     ]
    }
   ],
   "source": [
    "rice_encoding_compression('Sound1.wav', 4)"
   ]
  },
  {
   "cell_type": "code",
   "execution_count": 10,
   "id": "2341035d",
   "metadata": {},
   "outputs": [
    {
     "name": "stdout",
     "output_type": "stream",
     "text": [
      "Decompression complete.\n"
     ]
    }
   ],
   "source": [
    "rice_compression_decoding('Sound1_Enc.ex2', 4)"
   ]
  },
  {
   "cell_type": "code",
   "execution_count": 11,
   "id": "65347a3a",
   "metadata": {},
   "outputs": [
    {
     "name": "stdout",
     "output_type": "stream",
     "text": [
      "Where k = 4:\n",
      "original file size: 1002088\n",
      "encoded file size: 1875237\n",
      "decoded file size: 1002086\n",
      "compression: -87.13%\n"
     ]
    }
   ],
   "source": [
    "original_size = os.path.getsize(\"Sound1.wav\")\n",
    "encoded_file_size = os.path.getsize(\"Sound1_Enc.ex2\")\n",
    "decoded_file_size = os.path.getsize(\"Sound1_EncDec.wav\")\n",
    "\n",
    "print(\"Where k = 4:\")\n",
    "print(f\"original file size: {original_size}\")\n",
    "print(f\"encoded file size: {encoded_file_size}\")\n",
    "print(f\"decoded file size: {decoded_file_size}\")\n",
    "print(f\"compression: {round((original_size - encoded_file_size)/original_size * 100, 2)}%\")"
   ]
  },
  {
   "cell_type": "code",
   "execution_count": 12,
   "id": "a6d047bd",
   "metadata": {},
   "outputs": [
    {
     "name": "stdout",
     "output_type": "stream",
     "text": [
      "Chunk Size: 1002080\n",
      "Format: b'WAVE'\n",
      "Subchunk Size: 16\n",
      "Audio Format: 1\n",
      "Number of Channels: 1\n",
      "Sample Rate: 44100\n",
      "Byte Rate: 88200\n",
      "Block Align: 2\n",
      "Bits per sample: 16\n",
      "File Size: 1002044\n",
      "Compressed bytes: 275532\n",
      "Uncompressed bytes: 225490\n"
     ]
    }
   ],
   "source": [
    "rice_encoding_compression('Sound1.wav', 2)"
   ]
  },
  {
   "cell_type": "code",
   "execution_count": 13,
   "id": "aed7dfba",
   "metadata": {},
   "outputs": [
    {
     "name": "stdout",
     "output_type": "stream",
     "text": [
      "Decompression complete.\n"
     ]
    }
   ],
   "source": [
    "rice_compression_decoding('Sound1_Enc.ex2', 2)"
   ]
  },
  {
   "cell_type": "code",
   "execution_count": 14,
   "id": "664f4a96",
   "metadata": {},
   "outputs": [
    {
     "name": "stdout",
     "output_type": "stream",
     "text": [
      "Where k = 2:\n",
      "original file size: 1002088\n",
      "encoded file size: 1994540\n",
      "decoded file size: 1002086\n",
      "compression: -99.04%\n"
     ]
    }
   ],
   "source": [
    "original_size = os.path.getsize(\"Sound1.wav\")\n",
    "encoded_file_size = os.path.getsize(\"Sound1_Enc.ex2\")\n",
    "decoded_file_size = os.path.getsize(\"Sound1_EncDec.wav\")\n",
    "\n",
    "print(\"Where k = 2:\")\n",
    "print(f\"original file size: {original_size}\")\n",
    "print(f\"encoded file size: {encoded_file_size}\")\n",
    "print(f\"decoded file size: {decoded_file_size}\")\n",
    "print(f\"compression: {round((original_size - encoded_file_size)/original_size * 100, 2)}%\")"
   ]
  },
  {
   "cell_type": "markdown",
   "id": "566bff8e",
   "metadata": {},
   "source": [
    "# Sound 2"
   ]
  },
  {
   "cell_type": "code",
   "execution_count": 15,
   "id": "3f118ffa",
   "metadata": {},
   "outputs": [
    {
     "name": "stdout",
     "output_type": "stream",
     "text": [
      "Chunk Size: 1008036\n",
      "Format: b'WAVE'\n",
      "Subchunk Size: 16\n",
      "Audio Format: 1\n",
      "Number of Channels: 1\n",
      "Sample Rate: 44100\n",
      "Byte Rate: 88200\n",
      "Block Align: 2\n",
      "Bits per sample: 16\n",
      "File Size: 1008000\n",
      "Compressed bytes: 13992\n",
      "Uncompressed bytes: 490008\n"
     ]
    }
   ],
   "source": [
    "rice_encoding_compression('Sound2.wav', 4)"
   ]
  },
  {
   "cell_type": "code",
   "execution_count": 16,
   "id": "6e15afaf",
   "metadata": {},
   "outputs": [
    {
     "name": "stdout",
     "output_type": "stream",
     "text": [
      "Decompression complete.\n"
     ]
    }
   ],
   "source": [
    "rice_compression_decoding('Sound2_Enc.ex2', 4)"
   ]
  },
  {
   "cell_type": "code",
   "execution_count": 17,
   "id": "7a0c5582",
   "metadata": {},
   "outputs": [
    {
     "name": "stdout",
     "output_type": "stream",
     "text": [
      "Where k = 4:\n",
      "original file size: 1008044\n",
      "encoded file size: 2499947\n",
      "decoded file size: 1008042\n",
      "compression: -148.0%\n"
     ]
    }
   ],
   "source": [
    "original_size = os.path.getsize(\"Sound2.wav\")\n",
    "encoded_file_size = os.path.getsize(\"Sound2_Enc.ex2\")\n",
    "decoded_file_size = os.path.getsize(\"Sound2_EncDec.wav\")\n",
    "\n",
    "print(\"Where k = 4:\")\n",
    "print(f\"original file size: {original_size}\")\n",
    "print(f\"encoded file size: {encoded_file_size}\")\n",
    "print(f\"decoded file size: {decoded_file_size}\")\n",
    "print(f\"compression: {round((original_size - encoded_file_size)/original_size * 100, 2)}%\")"
   ]
  },
  {
   "cell_type": "code",
   "execution_count": 18,
   "id": "684094db",
   "metadata": {},
   "outputs": [
    {
     "name": "stdout",
     "output_type": "stream",
     "text": [
      "Chunk Size: 1008036\n",
      "Format: b'WAVE'\n",
      "Subchunk Size: 16\n",
      "Audio Format: 1\n",
      "Number of Channels: 1\n",
      "Sample Rate: 44100\n",
      "Byte Rate: 88200\n",
      "Block Align: 2\n",
      "Bits per sample: 16\n",
      "File Size: 1008000\n",
      "Compressed bytes: 13992\n",
      "Uncompressed bytes: 490008\n"
     ]
    }
   ],
   "source": [
    "rice_encoding_compression('Sound2.wav', 2)"
   ]
  },
  {
   "cell_type": "code",
   "execution_count": 19,
   "id": "9ae62e9b",
   "metadata": {},
   "outputs": [
    {
     "name": "stdout",
     "output_type": "stream",
     "text": [
      "Decompression complete.\n"
     ]
    }
   ],
   "source": [
    "rice_compression_decoding('Sound2_Enc.ex2', 2)"
   ]
  },
  {
   "cell_type": "code",
   "execution_count": 20,
   "id": "72333d97",
   "metadata": {},
   "outputs": [
    {
     "name": "stdout",
     "output_type": "stream",
     "text": [
      "Where k = 2:\n",
      "original file size: 1008044\n",
      "encoded file size: 2535876\n",
      "decoded file size: 1008042\n",
      "compression: -151.56%\n"
     ]
    }
   ],
   "source": [
    "original_size = os.path.getsize(\"Sound2.wav\")\n",
    "encoded_file_size = os.path.getsize(\"Sound2_Enc.ex2\")\n",
    "decoded_file_size = os.path.getsize(\"Sound2_EncDec.wav\")\n",
    "\n",
    "print(\"Where k = 2:\")\n",
    "print(f\"original file size: {original_size}\")\n",
    "print(f\"encoded file size: {encoded_file_size}\")\n",
    "print(f\"decoded file size: {decoded_file_size}\")\n",
    "print(f\"compression: {round((original_size - encoded_file_size)/original_size * 100, 2)}%\")"
   ]
  },
  {
   "cell_type": "markdown",
   "id": "790bcc6c",
   "metadata": {},
   "source": [
    "|  | Original size | Rice (K = 4 bits) | Rice (K = 2 bits) | % Compression (K = 4 bits) | % Compression (K = 2 bits) |\n",
    "| --- | --- | --- | --- | --- | --- |\n",
    "| Sound1.wav | 1002088 | 1875237 | 1994540 | -87.13% | -99.04% |\n",
    "| Sound2.wav | 1008044 | 2499947 | 2535876 | -148.0% | -151.56% |\n"
   ]
  },
  {
   "cell_type": "markdown",
   "id": "e80f8a57",
   "metadata": {},
   "source": [
    "# Further Development"
   ]
  },
  {
   "cell_type": "code",
   "execution_count": 21,
   "id": "b5e7cdcd",
   "metadata": {},
   "outputs": [],
   "source": [
    "from bitarray import bitarray\n",
    "from tabulate import tabulate"
   ]
  },
  {
   "cell_type": "code",
   "execution_count": 22,
   "id": "d51cd8fa",
   "metadata": {},
   "outputs": [],
   "source": [
    "def adaptive_k_selection(samples):\n",
    "    \"\"\" Determines optimal k based on signal variance, with a cap at k = 4. \"\"\"\n",
    "    std_dev = np.std(samples)\n",
    "    return 2 if std_dev < 32 else 4  # Maximum k capped at 4\n"
   ]
  },
  {
   "cell_type": "code",
   "execution_count": 23,
   "id": "e5030d34",
   "metadata": {},
   "outputs": [],
   "source": [
    "def encode_golomb(sample, k):\n",
    "    \"\"\" Applies Golomb encoding to a single sample. \"\"\"\n",
    "    M = 2**k\n",
    "    sign_bit = '1' if sample < 0 else '0'\n",
    "    s = abs(sample)\n",
    "    R = bin(s & (M - 1))[2:].zfill(k)  # Extract remainder bits\n",
    "    Q = s >> k  # Quotient calculation\n",
    "    \n",
    "    # Golomb encoding: quotient is now stored in binary instead of unary\n",
    "    Q_bin = bin(Q + 1)[2:]  # +1 ensures nonzero encoding\n",
    "    encoded_code = sign_bit + Q_bin + R\n",
    "    return bitarray(encoded_code)  # Store as bitarray for efficient packing\n"
   ]
  },
  {
   "cell_type": "code",
   "execution_count": 24,
   "id": "5ea3bf4f",
   "metadata": {},
   "outputs": [],
   "source": [
    "def apply_delta_encoding(samples):\n",
    "    \"\"\" Converts raw sample values into delta values. \"\"\"\n",
    "    delta_samples = [samples[0]]  # First sample remains the same\n",
    "    for i in range(1, len(samples)):\n",
    "        delta_samples.append(samples[i] - samples[i-1])\n",
    "    return delta_samples\n"
   ]
  },
  {
   "cell_type": "code",
   "execution_count": 25,
   "id": "09fee497",
   "metadata": {},
   "outputs": [],
   "source": [
    "def read_wav_header(input_file):\n",
    "    \"\"\" Reads and extracts WAV file header information. \"\"\"\n",
    "    header_info = input_file.read(44)\n",
    "    header_fields = {\n",
    "        \"Chunk Size\": struct.unpack('<L', header_info[4:8])[0],\n",
    "        \"Format\": header_info[8:12],\n",
    "        \"Subchunk Size\": struct.unpack('<L', header_info[16:20])[0],\n",
    "        \"Audio Format\": struct.unpack('<H', header_info[20:22])[0],\n",
    "        \"Number of Channels\": struct.unpack('<H', header_info[22:24])[0],\n",
    "        \"Sample Rate\": struct.unpack('<L', header_info[24:28])[0],\n",
    "        \"Byte Rate\": struct.unpack('<L', header_info[28:32])[0],\n",
    "        \"Block Align\": struct.unpack('<H', header_info[32:34])[0],\n",
    "        \"Bits per sample\": struct.unpack('<H', header_info[34:36])[0],\n",
    "        \"File Size\": struct.unpack('<L', header_info[40:44])[0]\n",
    "    }\n",
    "    for key, value in header_fields.items():\n",
    "        print(f\"{key}: {value}\")\n",
    "    return header_info\n"
   ]
  },
  {
   "cell_type": "code",
   "execution_count": 26,
   "id": "98dab5b8",
   "metadata": {},
   "outputs": [],
   "source": [
    "def rice_encoding_compression(filename):\n",
    "    \"\"\" Compresses WAV file samples using Delta + Golomb encoding with bit-packing. \"\"\"\n",
    "    try:\n",
    "        input_file = open(filename, 'rb')\n",
    "        encoded_file = open(f\"{filename.split('.')[0]}_DeltaGolombPacked.bin\", \"wb\")\n",
    "        header_info = read_wav_header(input_file)\n",
    "        \n",
    "        samples = []\n",
    "        for samplebyte in iter(partial(input_file.read, 2), b''):\n",
    "            sample = struct.unpack('<h', samplebyte)[0]\n",
    "            samples.append(sample)\n",
    "        \n",
    "        delta_samples = apply_delta_encoding(samples)  # Apply delta encoding\n",
    "        k = adaptive_k_selection(delta_samples)  # Dynamically select k, capped at 4\n",
    "        print(f\"Using adaptive k = {k} (Delta + Golomb encoding + Bit-Packing)\")\n",
    "        \n",
    "        compressed_bits = bitarray()\n",
    "        compressed_bytes = 0\n",
    "        uncompressed_bytes = 0\n",
    "        M = 2**k\n",
    "        \n",
    "        for sample in delta_samples:\n",
    "            if -128 < sample < 127:\n",
    "                encoded_bits = encode_golomb(sample, k)\n",
    "                compressed_bits.extend(encoded_bits)\n",
    "                compressed_bytes += len(encoded_bits) // 8\n",
    "            else:\n",
    "                uncompressed_bytes += 2  # Each uncompressed sample is 2 bytes\n",
    "                compressed_bits.frombytes(struct.pack('<h', sample))\n",
    "\n",
    "        compressed_bits.tofile(encoded_file)\n",
    "        print(f\"Compressed bytes: {compressed_bytes}\")\n",
    "        print(f\"Uncompressed bytes: {uncompressed_bytes}\")\n",
    "        \n",
    "    except Exception as e:\n",
    "        print(\"An error occurred:\", e)\n",
    "    finally:\n",
    "        input_file.close()\n",
    "        encoded_file.close()\n"
   ]
  },
  {
   "cell_type": "code",
   "execution_count": 27,
   "id": "747d090b",
   "metadata": {},
   "outputs": [],
   "source": [
    "def analyze_compression(original, encoded):\n",
    "    \"\"\" Analyzes compression efficiency and prints a table. \"\"\"\n",
    "    data = [\n",
    "        [\"Original\", original, \"0%\"],\n",
    "        [\"Encoded (Delta + Golomb + Bit-Packing, max 4)\", encoded, f\"{round((original - encoded) / original * 100, 2)}%\"]\n",
    "    ]\n",
    "    \n",
    "    print(\"\\nCompression Analysis:\")\n",
    "    print(tabulate(data, headers=[\"File Type\", \"File Size (bytes)\", \"Compression (%)\"], tablefmt=\"grid\"))\n"
   ]
  },
  {
   "cell_type": "code",
   "execution_count": 28,
   "id": "2e5adc13",
   "metadata": {},
   "outputs": [
    {
     "name": "stdout",
     "output_type": "stream",
     "text": [
      "Chunk Size: 1002080\n",
      "Format: b'WAVE'\n",
      "Subchunk Size: 16\n",
      "Audio Format: 1\n",
      "Number of Channels: 1\n",
      "Sample Rate: 44100\n",
      "Byte Rate: 88200\n",
      "Block Align: 2\n",
      "Bits per sample: 16\n",
      "File Size: 1002044\n",
      "Using adaptive k = 4 (Delta + Golomb encoding + Bit-Packing)\n",
      "Compressed bytes: 83445\n",
      "Uncompressed bytes: 172374\n",
      "\n",
      "Compression Analysis:\n",
      "+-----------------------------------------------+---------------------+-------------------+\n",
      "| File Type                                     |   File Size (bytes) | Compression (%)   |\n",
      "+===============================================+=====================+===================+\n",
      "| Original                                      |             1002088 | 0%                |\n",
      "+-----------------------------------------------+---------------------+-------------------+\n",
      "| Encoded (Delta + Golomb + Bit-Packing, max 4) |              514443 | 48.66%            |\n",
      "+-----------------------------------------------+---------------------+-------------------+\n"
     ]
    }
   ],
   "source": [
    "original_size = os.path.getsize(\"Sound1.wav\")\n",
    "rice_encoding_compression('Sound1.wav')\n",
    "delta_golomb_packed_size = os.path.getsize(\"Sound1_DeltaGolombPacked.bin\")\n",
    "analyze_compression(original_size, delta_golomb_packed_size)\n"
   ]
  },
  {
   "cell_type": "code",
   "execution_count": null,
   "id": "7c739124",
   "metadata": {},
   "outputs": [],
   "source": []
  }
 ],
 "metadata": {
  "kernelspec": {
   "display_name": "Python 3 (ipykernel)",
   "language": "python",
   "name": "python3"
  },
  "language_info": {
   "codemirror_mode": {
    "name": "ipython",
    "version": 3
   },
   "file_extension": ".py",
   "mimetype": "text/x-python",
   "name": "python",
   "nbconvert_exporter": "python",
   "pygments_lexer": "ipython3",
   "version": "3.11.5"
  }
 },
 "nbformat": 4,
 "nbformat_minor": 5
}
